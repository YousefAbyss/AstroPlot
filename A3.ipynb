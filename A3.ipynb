{
 "cells": [
  {
   "cell_type": "code",
   "execution_count": 1,
   "id": "5906db4d-1adb-4ee4-8e05-5b7fe536eec5",
   "metadata": {},
   "outputs": [],
   "source": [
    "from numpy import genfromtxt, pi\n",
    "import matplotlib.pyplot as plt\n",
    "import scienceplots\n",
    "plt.style.use(['science'])"
   ]
  },
  {
   "cell_type": "code",
   "execution_count": 2,
   "id": "8b8cbde9-1bf3-4a9c-9c8c-3e7d1acb3287",
   "metadata": {},
   "outputs": [],
   "source": [
    "folder = r'DEBCG_LS_H5_a54_NG_f25'"
   ]
  },
  {
   "cell_type": "code",
   "execution_count": 3,
   "id": "db51d18f-c292-4c23-8c3f-ebf8b79785e3",
   "metadata": {},
   "outputs": [],
   "source": [
    "path = r'Kepler80/Data/Code/'\n",
    "file = r'/orbits.txt'\n",
    "t, a, e = genfromtxt(path + folder + file, usecols=(0, 1, 2), unpack=True)\n",
    "n = 5"
   ]
  },
  {
   "cell_type": "code",
   "execution_count": 4,
   "id": "ee8e06e6-41fb-4cd2-8a93-de8919831e34",
   "metadata": {},
   "outputs": [
    {
     "data": {
      "image/png": "[encoded data removed]",
      "text/plain": [
       "<Figure size 350x262.5 with 1 Axes>"
      ]
     },
     "metadata": {},
     "output_type": "display_data"
    }
   ],
   "source": [
    "fig, ax = plt.subplots(1, 1)\n",
    "\n",
    "ax.plot(t[::n]/2/pi, a[::n])\n",
    "ax.set_ylabel(r'$a$[AU]')\n",
    "ax.set_xlabel(r'$Time$[Years]')\n",
    "ax.set_ylim(0.01, 0.09)\n",
    "ax.set_xlim(-0.05e6, 3e6)\n",
    "\n",
    "fig.suptitle(r'A3')\n",
    "# plt.savefig('A3.png', dpi=300)\n",
    "plt.show()"
   ]
  },
  {
   "cell_type": "code",
   "execution_count": null,
   "id": "56ba3a58-bcda-487d-ba86-2091877ac5ba",
   "metadata": {},
   "outputs": [],
   "source": []
  }
 ],
 "metadata": {
  "kernelspec": {
   "display_name": "Python 3 (ipykernel)",
   "language": "python",
   "name": "python3"
  },
  "language_info": {
   "codemirror_mode": {
    "name": "ipython",
    "version": 3
   },
   "file_extension": ".py",
   "mimetype": "text/x-python",
   "name": "python",
   "nbconvert_exporter": "python",
   "pygments_lexer": "ipython3",
   "version": "3.10.12"
  }
 },
 "nbformat": 4,
 "nbformat_minor": 5
}
